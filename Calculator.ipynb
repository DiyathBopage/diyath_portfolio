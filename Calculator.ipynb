{
 "cells": [
  {
   "cell_type": "markdown",
   "id": "2ff31553-cdcf-49e6-bfa2-8eccc28f62f2",
   "metadata": {},
   "source": [
    "# Calculator "
   ]
  },
  {
   "cell_type": "code",
   "execution_count": 6,
   "id": "79da5ecd-7264-4679-92be-470a5163a30d",
   "metadata": {},
   "outputs": [],
   "source": [
    "def add(x,y):\n",
    "    return x + y \n",
    "    \n",
    "def subtract(x,y):\n",
    "    return x - y \n",
    "\n",
    "def multiply(x,y):\n",
    "    return x * y \n",
    "\n",
    "def divide(x,y):\n",
    "    return x / y "
   ]
  },
  {
   "cell_type": "code",
   "execution_count": 8,
   "id": "75f96649-e29d-4d5d-8ade-7d5bc5b3d16c",
   "metadata": {},
   "outputs": [
    {
     "name": "stdin",
     "output_type": "stream",
     "text": [
      "Enter Choice: A,S,M,D:  a\n",
      "Enter first number:  2\n",
      "Enter second number:  3\n"
     ]
    }
   ],
   "source": [
    "choice = input('Enter Choice: A,S,M,D: ')\n",
    "\n",
    "num1 = float(input('Enter first number: '))\n",
    "\n",
    "num2 = float(input('Enter second number: '))\n"
   ]
  },
  {
   "cell_type": "code",
   "execution_count": null,
   "id": "e9809a9d-243e-4297-8e0f-a01536882507",
   "metadata": {},
   "outputs": [
    {
     "name": "stdout",
     "output_type": "stream",
     "text": [
      "Enter 'A' for Addition.\n",
      "Enter 'S' for Subtraction.\n",
      "Enter 'M' for Multiplication.\n",
      "Enter 'D' for Division.\n"
     ]
    }
   ],
   "source": [
    "print(\"Enter 'A' for Addition.\")\n",
    "print(\"Enter 'S' for Subtraction.\")\n",
    "print(\"Enter 'M' for Multiplication.\")\n",
    "print(\"Enter 'D' for Division.\")\n",
    "\n",
    "\n",
    "\n",
    "\n",
    "while True:\n",
    "    choice = input('Enter Choice (A,S,M, D): ')\n",
    "    if choice.upper() in ('A', 'ADD', 'ADDITION', 'S', 'SUBTRACT', 'M', 'MULTIPLY', 'MULTIPLICATION', 'D', 'DIVIDE'):\n",
    "        num1 = float(input('Enter first number: '))\n",
    "        num2 = float(input('Enter second number: '))\n",
    "    \n",
    "        if choice.upper() in ('A', 'ADD', 'ADDITION'): \n",
    "            print(num1, '+', num2, '=', add(num1,num2))\n",
    "        elif choice.upper() in ('S', 'SUBTRACT', 'SUBTRACTION'):\n",
    "            print(num1, '-', num2, '=', subtract(num1,num2))\n",
    "        elif choice.upper() in ('M', 'MULTIPLY', 'MULITPLICATION'):\n",
    "            print(num1, '*', num2, '=', multiply(num1,num2))\n",
    "        elif choice.upper() in ('D', 'DIVIDE', 'DIVISION'):\n",
    "            print(num1, '/', num2, '=', divide(num1, num2))\n",
    "    else:\n",
    "        print(\"Please input a correct choice.\") \n",
    "        \n",
    "    next_calculation = input(\"Want to do another calculation?(yes/no?): \")\n",
    "    if next_calculation.lower() in ('no', 'n', 'nope'):\n",
    "        break\n",
    "    "
   ]
  },
  {
   "cell_type": "code",
   "execution_count": null,
   "id": "948e897b-c514-4380-a39d-0220bd521b47",
   "metadata": {},
   "outputs": [],
   "source": []
  },
  {
   "cell_type": "code",
   "execution_count": null,
   "id": "27b543ae-7d91-494b-b577-a917ad38990d",
   "metadata": {},
   "outputs": [],
   "source": []
  },
  {
   "cell_type": "code",
   "execution_count": null,
   "id": "974a3839-4f33-4325-82f8-cdc9af1913be",
   "metadata": {},
   "outputs": [],
   "source": []
  },
  {
   "cell_type": "code",
   "execution_count": null,
   "id": "3ec74adc-1bc4-4b3a-b0e7-9a6719bd488f",
   "metadata": {},
   "outputs": [],
   "source": []
  },
  {
   "cell_type": "code",
   "execution_count": null,
   "id": "099237a6-5233-4e0e-8dd0-d531d1bb4252",
   "metadata": {},
   "outputs": [],
   "source": []
  },
  {
   "cell_type": "code",
   "execution_count": null,
   "id": "64b07cdf-f922-42db-be93-d9158c9b46f8",
   "metadata": {},
   "outputs": [],
   "source": []
  },
  {
   "cell_type": "code",
   "execution_count": null,
   "id": "9545e941-902f-435d-b362-a94b21363380",
   "metadata": {},
   "outputs": [],
   "source": []
  },
  {
   "cell_type": "code",
   "execution_count": null,
   "id": "1ee96d45-a9d0-4204-9634-b82d40e390c6",
   "metadata": {},
   "outputs": [],
   "source": []
  },
  {
   "cell_type": "code",
   "execution_count": null,
   "id": "7244e750-ea93-4b08-8fa7-b01ae18f25a3",
   "metadata": {},
   "outputs": [],
   "source": []
  },
  {
   "cell_type": "code",
   "execution_count": null,
   "id": "9ff6fb27-cac3-4f96-b705-975786544049",
   "metadata": {},
   "outputs": [],
   "source": []
  },
  {
   "cell_type": "code",
   "execution_count": null,
   "id": "4c1aabae-8bc1-4e3e-9819-bff9c5082ab9",
   "metadata": {},
   "outputs": [],
   "source": []
  },
  {
   "cell_type": "code",
   "execution_count": null,
   "id": "d9e11040-3c9e-4ea8-b058-7d62804433f0",
   "metadata": {},
   "outputs": [],
   "source": []
  },
  {
   "cell_type": "code",
   "execution_count": null,
   "id": "aaf3e51b-4502-4ee4-a44c-71c8edab6bdb",
   "metadata": {},
   "outputs": [],
   "source": []
  },
  {
   "cell_type": "code",
   "execution_count": null,
   "id": "cac33e24-08df-4dd1-abec-586c239638c2",
   "metadata": {},
   "outputs": [],
   "source": []
  },
  {
   "cell_type": "code",
   "execution_count": null,
   "id": "99aec6cd-d041-4c8f-b689-4e7f2b75b2d8",
   "metadata": {},
   "outputs": [],
   "source": []
  },
  {
   "cell_type": "code",
   "execution_count": null,
   "id": "a6530eff-d9b4-4a03-b374-82e2f4dcdc8b",
   "metadata": {},
   "outputs": [],
   "source": []
  },
  {
   "cell_type": "code",
   "execution_count": null,
   "id": "0c9d0900-4022-4717-887b-dbc37d0eaa99",
   "metadata": {},
   "outputs": [],
   "source": []
  }
 ],
 "metadata": {
  "kernelspec": {
   "display_name": "Python 3 (ipykernel)",
   "language": "python",
   "name": "python3"
  },
  "language_info": {
   "codemirror_mode": {
    "name": "ipython",
    "version": 3
   },
   "file_extension": ".py",
   "mimetype": "text/x-python",
   "name": "python",
   "nbconvert_exporter": "python",
   "pygments_lexer": "ipython3",
   "version": "3.12.4"
  }
 },
 "nbformat": 4,
 "nbformat_minor": 5
}
